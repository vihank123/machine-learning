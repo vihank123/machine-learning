{
  "nbformat": 4,
  "nbformat_minor": 0,
  "metadata": {
    "colab": {
      "name": "runga kutta 2nd.ipynb",
      "provenance": [],
      "authorship_tag": "ABX9TyNZMsZhViehxdDAgbCgGcMY",
      "include_colab_link": true
    },
    "kernelspec": {
      "name": "python3",
      "display_name": "Python 3"
    },
    "language_info": {
      "name": "python"
    }
  },
  "cells": [
    {
      "cell_type": "markdown",
      "metadata": {
        "id": "view-in-github",
        "colab_type": "text"
      },
      "source": [
        "<a href=\"https://colab.research.google.com/github/vihank123/machine-learning/blob/main/WAP%20runga_kutta_2nd%20method%20using%20python.ipynb\" target=\"_parent\"><img src=\"https://colab.research.google.com/assets/colab-badge.svg\" alt=\"Open In Colab\"/></a>"
      ]
    },
    {
      "cell_type": "code",
      "execution_count": null,
      "metadata": {
        "colab": {
          "base_uri": "https://localhost:8080/"
        },
        "id": "v7TKwgHPsMjf",
        "outputId": "6fe07bc9-8857-41b4-8bf5-cff7f91c3ef7"
      },
      "outputs": [
        {
          "output_type": "stream",
          "name": "stdout",
          "text": [
            "y(x) = 0.6455901672629244\n"
          ]
        }
      ],
      "source": [
        "def dydx(x, y) :\n",
        " \n",
        "    return (x + y - 2);\n",
        " \n",
        "# Finds value of y for a given x\n",
        "# using step size h\n",
        "# and initial value y0 at x0.\n",
        "def rungeKutta(x0, y0, x, h) :\n",
        " \n",
        "    # Count number of iterations\n",
        "    # using step size or\n",
        "    # step height h\n",
        "    n = round((x - x0) / h);\n",
        "     \n",
        "        # Iterate for number of iterations\n",
        "    y = y0;\n",
        "     \n",
        "    for i in range(1, n + 1) :\n",
        "         \n",
        "                # Apply Runge Kutta Formulas\n",
        "        # to find next value of y\n",
        "        k1 = h * dydx(x0, y);\n",
        "        k2 = h * dydx(x0 + 0.5 * h, y + 0.5 * k1);\n",
        " \n",
        "        # Update next value of y\n",
        "        y = y + (1.0 / 6.0) * (k1 + 2 * k2);\n",
        " \n",
        "        # Update next value of x\n",
        "        x0 = x0 + h;\n",
        " \n",
        "    return y;\n",
        " \n",
        "# Driver Code\n",
        "if __name__ == \"__main__\" :\n",
        " \n",
        "    x0 = 0; y = 1;\n",
        "    x = 2; h = 0.2;\n",
        " \n",
        "    print(\"y(x) =\",rungeKutta(x0, y, x, h));\n",
        " "
      ]
    }
  ]
}