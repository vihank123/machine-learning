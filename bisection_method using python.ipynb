{
  "nbformat": 4,
  "nbformat_minor": 0,
  "metadata": {
    "colab": {
      "name": "bisection method.ipynb",
      "provenance": [],
      "authorship_tag": "ABX9TyNrpxAQ3wW4pR/kKB7zr9Ky",
      "include_colab_link": true
    },
    "kernelspec": {
      "name": "python3",
      "display_name": "Python 3"
    },
    "language_info": {
      "name": "python"
    }
  },
  "cells": [
    {
      "cell_type": "markdown",
      "metadata": {
        "id": "view-in-github",
        "colab_type": "text"
      },
      "source": [
        "<a href=\"https://colab.research.google.com/github/vihank123/machine-learning/blob/main/bisection_method%20using%20python.ipynb\" target=\"_parent\"><img src=\"https://colab.research.google.com/assets/colab-badge.svg\" alt=\"Open In Colab\"/></a>"
      ]
    },
    {
      "cell_type": "code",
      "execution_count": 2,
      "metadata": {
        "colab": {
          "base_uri": "https://localhost:8080/"
        },
        "id": "WaEt6B1hqV8S",
        "outputId": "c4fd8031-606c-43fc-8881-0e30919b691f"
      },
      "outputs": [
        {
          "output_type": "stream",
          "name": "stdout",
          "text": [
            "The value of root is :  -1.0025\n"
          ]
        }
      ],
      "source": [
        "def func(x):\n",
        "    return x*x*x - x*x + 2\n",
        "  \n",
        "# Prints root of func(x)\n",
        "# with error of EPSILON\n",
        "def bisection(a,b):\n",
        " \n",
        "    if (func(a) * func(b) >= 0):\n",
        "        print(\"You have not assumed right a and b\\n\")\n",
        "        return\n",
        "  \n",
        "    c = a\n",
        "    while ((b-a) >= 0.01):\n",
        " \n",
        "        # Find middle point\n",
        "        c = (a+b)/2\n",
        "  \n",
        "        # Check if middle point is root\n",
        "        if (func(c) == 0.0):\n",
        "            break\n",
        "  \n",
        "        # Decide the side to repeat the steps\n",
        "        if (func(c)*func(a) < 0):\n",
        "            b = c\n",
        "        else:\n",
        "            a = c\n",
        "             \n",
        "    print(\"The value of root is : \",\"%.4f\"%c)\n",
        "     \n",
        "# Driver code\n",
        "# Initial values assumed\n",
        "a =-200\n",
        "b = 300\n",
        "bisection(a, b)\n"
      ]
    },
    {
      "cell_type": "code",
      "source": [
        ""
      ],
      "metadata": {
        "id": "qoHgg0_k3k4F"
      },
      "execution_count": null,
      "outputs": []
    }
  ]
}