{
  "nbformat": 4,
  "nbformat_minor": 0,
  "metadata": {
    "colab": {
      "name": "linear regression.ipynb",
      "provenance": [],
      "authorship_tag": "ABX9TyPOP4Fa+WRtzxuNffVQ+FDE",
      "include_colab_link": true
    },
    "kernelspec": {
      "name": "python3",
      "display_name": "Python 3"
    },
    "language_info": {
      "name": "python"
    }
  },
  "cells": [
    {
      "cell_type": "markdown",
      "metadata": {
        "id": "view-in-github",
        "colab_type": "text"
      },
      "source": [
        "<a href=\"https://colab.research.google.com/github/vihank123/machine-learning/blob/main/linear_regression.ipynb\" target=\"_parent\"><img src=\"https://colab.research.google.com/assets/colab-badge.svg\" alt=\"Open In Colab\"/></a>"
      ]
    },
    {
      "cell_type": "code",
      "execution_count": null,
      "metadata": {
        "id": "QeDP8hr-cF1s"
      },
      "outputs": [],
      "source": [
        "#program for liner regression\n",
        "#impoting numpy library for taking arraay as inputr\n",
        "import numpy as np\n",
        "import matplotlib.pyplot as pt\n",
        "from sklearn import datasets, linear_model\n",
        "\n"
      ]
    },
    {
      "cell_type": "code",
      "source": [
        "regr = linear_model.LinearRegression()"
      ],
      "metadata": {
        "id": "YbRUSDSOd29F"
      },
      "execution_count": null,
      "outputs": []
    },
    {
      "cell_type": "code",
      "source": [
        "x=np.array([1,10,20,40,50,70,80,90,120])\n",
        "y=np.array([3,20,90,110,130,170,150,200,260])"
      ],
      "metadata": {
        "id": "9-kX7zrbeKYJ"
      },
      "execution_count": null,
      "outputs": []
    },
    {
      "cell_type": "code",
      "source": [
        "regr = linear_model.LinearRegression()"
      ],
      "metadata": {
        "id": "BsQcgVY5e0O_"
      },
      "execution_count": null,
      "outputs": []
    },
    {
      "cell_type": "code",
      "source": [
        "x=x.reshape(-1,1)"
      ],
      "metadata": {
        "id": "VqPkCMchfCyj"
      },
      "execution_count": null,
      "outputs": []
    },
    {
      "cell_type": "code",
      "source": [
        "regr.fit(x,y)"
      ],
      "metadata": {
        "colab": {
          "base_uri": "https://localhost:8080/"
        },
        "id": "ey19jh2OfPmW",
        "outputId": "50a8f394-2ec6-4b79-b8ee-db41b2b3f4cc"
      },
      "execution_count": null,
      "outputs": [
        {
          "output_type": "execute_result",
          "data": {
            "text/plain": [
              "LinearRegression()"
            ]
          },
          "metadata": {},
          "execution_count": 17
        }
      ]
    },
    {
      "cell_type": "code",
      "source": [
        "y_pred=regr.predict(x)"
      ],
      "metadata": {
        "id": "_qAKdtwug_LI"
      },
      "execution_count": null,
      "outputs": []
    },
    {
      "cell_type": "code",
      "source": [
        "pt.scatter(x,y)\n",
        "pt.plot(x,y_pred,color='green')\n",
        "pt.show()"
      ],
      "metadata": {
        "colab": {
          "base_uri": "https://localhost:8080/",
          "height": 265
        },
        "id": "LwyWCMELhJ_M",
        "outputId": "26ffad50-6638-4cb3-aae4-4e4a5d2b4734"
      },
      "execution_count": null,
      "outputs": [
        {
          "output_type": "display_data",
          "data": {
            "text/plain": [
              "<Figure size 432x288 with 1 Axes>"
            ],
            "image/png": "[encoded data removed]"
          },
          "metadata": {
            "needs_background": "light"
          }
        }
      ]
    },
    {
      "cell_type": "code",
      "source": [
        "print(regr.coef_)"
      ],
      "metadata": {
        "colab": {
          "base_uri": "https://localhost:8080/"
        },
        "id": "l-KC9C7dhQdV",
        "outputId": "74079d44-0c32-4685-f933-b8b9438fc006"
      },
      "execution_count": null,
      "outputs": [
        {
          "output_type": "stream",
          "name": "stdout",
          "text": [
            "[2.00488411]\n"
          ]
        }
      ]
    },
    {
      "cell_type": "code",
      "source": [
        "print(regr.intercept_)"
      ],
      "metadata": {
        "colab": {
          "base_uri": "https://localhost:8080/"
        },
        "id": "f-l4Ew-HjLme",
        "outputId": "9a6884ad-53a2-4bf0-9ac1-8b10ec8cb4f5"
      },
      "execution_count": null,
      "outputs": [
        {
          "output_type": "stream",
          "name": "stdout",
          "text": [
            "18.73897136054896\n"
          ]
        }
      ]
    },
    {
      "cell_type": "code",
      "source": [
        ""
      ],
      "metadata": {
        "id": "yTcfKDnujebz"
      },
      "execution_count": null,
      "outputs": []
    }
  ]
}